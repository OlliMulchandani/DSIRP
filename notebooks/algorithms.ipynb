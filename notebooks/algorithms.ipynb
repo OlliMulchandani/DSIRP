{
 "cells": [
  {
   "cell_type": "markdown",
   "metadata": {},
   "source": [
    "# Algorithms"
   ]
  },
  {
   "cell_type": "markdown",
   "metadata": {},
   "source": [
    "[Click here to run this chapter on Colab](https://colab.research.google.com/github/AllenDowney/DSIRP/blob/main/notebooks/algorithms.ipynb)"
   ]
  },
  {
   "cell_type": "markdown",
   "metadata": {},
   "source": [
    "## Searching for anagrams\n",
    "\n",
    "In this notebook we'll implement algorithms for two tasks:\n",
    "\n",
    "* Testing a pair of words to see if they are anagrams of each other, that is, if you can rearrange the letters in one word to spell the other.\n",
    "\n",
    "* Searching a list of words for all pairs that are anagrams of each other.\n",
    "\n",
    "There is a point to these examples, which I will explain at the end."
   ]
  },
  {
   "cell_type": "markdown",
   "metadata": {},
   "source": [
    "**Exercise 1:** Write a function that takes two words and returns `True` if they are anagrams. Test your function with the examples below."
   ]
  },
  {
   "cell_type": "code",
   "execution_count": null,
   "metadata": {},
   "outputs": [],
   "source": [
    "def is_anagram(word1, word2):\n",
    "    if sorted(word1) == sorted(word2):\n",
    "        return True     \n",
    "    return False\n"
   ]
  },
  {
   "cell_type": "code",
   "execution_count": null,
   "metadata": {},
   "outputs": [],
   "source": []
  },
  {
   "cell_type": "code",
   "execution_count": null,
   "metadata": {},
   "outputs": [],
   "source": []
  },
  {
   "cell_type": "code",
   "execution_count": null,
   "metadata": {},
   "outputs": [],
   "source": []
  },
  {
   "cell_type": "code",
   "execution_count": null,
   "metadata": {},
   "outputs": [],
   "source": [
    "is_anagram('tachymetric', 'mccarthyite') # True"
   ]
  },
  {
   "cell_type": "code",
   "execution_count": null,
   "metadata": {},
   "outputs": [],
   "source": [
    "is_anagram('post', 'top') # False, letter not present"
   ]
  },
  {
   "cell_type": "code",
   "execution_count": null,
   "metadata": {},
   "outputs": [],
   "source": [
    "is_anagram('pott', 'top') # False, letter present but not enough copies"
   ]
  },
  {
   "cell_type": "code",
   "execution_count": null,
   "metadata": {},
   "outputs": [],
   "source": [
    "is_anagram('top', 'post') # False, letters left over at the end"
   ]
  },
  {
   "cell_type": "code",
   "execution_count": null,
   "metadata": {},
   "outputs": [],
   "source": [
    "is_anagram('topss', 'postt') # False"
   ]
  },
  {
   "cell_type": "markdown",
   "metadata": {},
   "source": [
    "**Exercise 2:** Use `timeit` to see how fast your function is for these examples:"
   ]
  },
  {
   "cell_type": "code",
   "execution_count": null,
   "metadata": {},
   "outputs": [],
   "source": [
    "%timeit is_anagram('tops', 'spot')"
   ]
  },
  {
   "cell_type": "code",
   "execution_count": null,
   "metadata": {},
   "outputs": [],
   "source": [
    "%timeit is_anagram('tachymetric', 'mccarthyite')"
   ]
  },
  {
   "cell_type": "markdown",
   "metadata": {},
   "source": [
    "How can we compare algorithms running on different computers?"
   ]
  },
  {
   "cell_type": "markdown",
   "metadata": {},
   "source": [
    "## Searching for anagram pairs"
   ]
  },
  {
   "cell_type": "markdown",
   "metadata": {},
   "source": [
    "**Exercise 3:** Write a function that takes a word list and returns a list of all anagram pairs."
   ]
  },
  {
   "cell_type": "code",
   "execution_count": null,
   "metadata": {},
   "outputs": [],
   "source": [
    "short_word_list = ['proudest', 'stop', 'pots', 'tops', 'sprouted']"
   ]
  },
  {
   "cell_type": "code",
   "execution_count": null,
   "metadata": {},
   "outputs": [],
   "source": [
    "def all_anagram_pairs(word_list):\n",
    "    anagram_list = []\n",
    "    for i in range(len(word_list) - 1):\n",
    "        for j in range(i + 1,len(word_list) - 1):\n",
    "            if is_anagram(word_list[i], word_list[j]):\n",
    "                if (word_list[i] not in anagram_list):\n",
    "                    anagram_list.append(word_list[i])\n",
    "                if (word_list[j] not in anagram_list):\n",
    "                    anagram_list.append(word_list[j])\n",
    "\n",
    "    return anagram_list"
   ]
  },
  {
   "cell_type": "code",
   "execution_count": null,
   "metadata": {},
   "outputs": [],
   "source": []
  },
  {
   "cell_type": "code",
   "execution_count": null,
   "metadata": {},
   "outputs": [],
   "source": [
    "all_anagram_pairs(short_word_list)"
   ]
  },
  {
   "cell_type": "markdown",
   "metadata": {},
   "source": [
    "The following cell downloads a file containing a list of English words."
   ]
  },
  {
   "cell_type": "code",
   "execution_count": null,
   "metadata": {},
   "outputs": [],
   "source": [
    "from os.path import basename, exists\n",
    "\n",
    "def download(url):\n",
    "    filename = basename(url)\n",
    "    if not exists(filename):\n",
    "        from urllib.request import urlretrieve\n",
    "        local, _ = urlretrieve(url, filename)\n",
    "        print('Downloaded ' + local)\n",
    "    \n",
    "download('https://github.com/AllenDowney/DSIRP/raw/main/american-english')"
   ]
  },
  {
   "cell_type": "markdown",
   "metadata": {},
   "source": [
    "The following function reads a file and returns a set of words (I used a set because after we convert words to lower case, there are some repeats.)"
   ]
  },
  {
   "cell_type": "code",
   "execution_count": null,
   "metadata": {},
   "outputs": [],
   "source": [
    "def read_words(filename):\n",
    "    \"\"\"Read lines from a file and split them into words.\"\"\"\n",
    "    res = set()\n",
    "    for line in open(filename):\n",
    "        for word in line.split():\n",
    "            if ('\\'' not in word):\n",
    "                res.add(word.strip().lower())\n",
    "    return res"
   ]
  },
  {
   "cell_type": "code",
   "execution_count": null,
   "metadata": {},
   "outputs": [],
   "source": [
    "word_list = read_words('american-english')\n",
    "len(word_list)\n",
    "#print(word_list)"
   ]
  },
  {
   "cell_type": "markdown",
   "metadata": {},
   "source": [
    "**Exercise 4:** Loop through the word list and print all words that are anagrams of `stop`."
   ]
  },
  {
   "cell_type": "code",
   "execution_count": null,
   "metadata": {},
   "outputs": [],
   "source": [
    "#for word in word_list:\n",
    "#    if is_anagram(word, 'stop'):\n",
    "#        print(word + ' ')\n"
   ]
  },
  {
   "cell_type": "markdown",
   "metadata": {},
   "source": [
    "Now run `all_anagram_pairs` with the full `word_list`:"
   ]
  },
  {
   "cell_type": "code",
   "execution_count": null,
   "metadata": {},
   "outputs": [],
   "source": [
    "#pairs = all_anagram_pairs(list(word_list))\n",
    "#print(pairs)"
   ]
  },
  {
   "cell_type": "markdown",
   "metadata": {},
   "source": [
    "**Exercise 5:** While that's running, let's estimate how long it's going to take."
   ]
  },
  {
   "cell_type": "code",
   "execution_count": null,
   "metadata": {},
   "outputs": [],
   "source": []
  },
  {
   "cell_type": "markdown",
   "metadata": {},
   "source": [
    "## A better algorithm\n",
    "\n",
    "**Exercise 6:** Write a better algorithm! Hint: make a dictionary. How much faster is your algorithm?"
   ]
  },
  {
   "cell_type": "code",
   "execution_count": null,
   "metadata": {},
   "outputs": [],
   "source": [
    "def all_anagram_lists(word_list):\n",
    "    \n",
    "    empty_dict ={}\n",
    "    \n",
    "    for word in word_list:\n",
    "        sorted_word = ''.join(sorted(word))\n",
    "        if sorted_word not in empty_dict:\n",
    "            empty_dict[sorted_word] = [word]\n",
    "        else:\n",
    "            empty_dict[sorted_word].append(word)\n",
    "\n",
    "    #for word in word_list:\n",
    "    #    sorted_word = ''.join(sorted(word))\n",
    "    #    if len(empty_dict[sorted_word]) < 2:\n",
    "    #       empty_dict.pop([sorted_word])\n",
    "    dict_two = {}\n",
    "    for k,v in empty_dict.items():\n",
    "        if len(v) >= 2:\n",
    "            dict_two[k]=v\n",
    "     \n",
    "\n",
    "    return dict_two \n",
    "    "
   ]
  },
  {
   "cell_type": "code",
   "execution_count": null,
   "metadata": {},
   "outputs": [],
   "source": [
    "def is_anagram(list_of_str):\n",
    "\n",
    "    new_list = []\n",
    "    empty_dict ={}\n",
    "    \n",
    "    for item in list_of_str:\n",
    "        sorted_item = ''.join(sorted(item))\n",
    "        if sorted_item not in empty_dict:\n",
    "            empty_dict[sorted_item] = [item]\n",
    "        else:\n",
    "            empty_dict[sorted_item].append(item)\n",
    "    # return empty_dict \n",
    "    for k,v in empty_dict.items():\n",
    "        if len(v)>=2:\n",
    "            new_list.append(v)\n",
    "    return new_list"
   ]
  },
  {
   "cell_type": "code",
   "execution_count": null,
   "metadata": {},
   "outputs": [],
   "source": [
    "anagram_map = all_anagram_lists(word_list)\n",
    "print(anagram_map)"
   ]
  },
  {
   "cell_type": "code",
   "execution_count": null,
   "metadata": {},
   "outputs": [],
   "source": [
    "len(anagram_map)"
   ]
  },
  {
   "cell_type": "code",
   "execution_count": null,
   "metadata": {},
   "outputs": [],
   "source": []
  },
  {
   "cell_type": "markdown",
   "metadata": {},
   "source": [
    "## Summary\n",
    "\n",
    "What is the point of the examples in this notebook?\n",
    "\n",
    "* The different versions of `is_anagram` show that, when inputs are small, it is hard to say which algorithm will be the fastest. It often depends on details of the implementation. Anyway, the differences tend to be small, so it might not matter much in practice.\n",
    "\n",
    "* The different algorithms we used to search for anagram pairs show that, when inputs are large, we can often tell which algorithm will be fastest. And the difference between a fast algorithm and a slow one can be huge!"
   ]
  },
  {
   "cell_type": "markdown",
   "metadata": {},
   "source": [
    "## Exercises\n",
    "\n",
    "Before you work on these exercises, you might want to read the Python [Sorting How-To](https://docs.python.org/3/howto/sorting.html). It uses `lambda` to define an anonymous function, which [you can read about here](https://www.w3schools.com/python/python_lambda.asp).\n",
    "\n",
    "**Exercise 7:**\n",
    "Make a dictionary like `anagram_map` that contains only keys that map to a list with more than one element. You can use a `for` loop to make a new dictionary, or a [dictionary comprehension](https://www.freecodecamp.org/news/dictionary-comprehension-in-python-explained-with-examples/)."
   ]
  },
  {
   "cell_type": "code",
   "execution_count": null,
   "metadata": {},
   "outputs": [],
   "source": [
    "\n",
    "new_dict = {}\n",
    "for k,v in anagram_map.items():\n",
    "    if len(v)>=2:\n",
    "        new_dict[k]=v\n",
    "\n"
   ]
  },
  {
   "cell_type": "markdown",
   "metadata": {},
   "source": [
    "**Exercise 8:**\n",
    "Find the longest word with at least one anagram. Suggestion: use the `key` argument of `sort` or `sorted` ([see here](https://stackoverflow.com/questions/8966538/syntax-behind-sortedkey-lambda))."
   ]
  },
  {
   "cell_type": "code",
   "execution_count": 108,
   "metadata": {},
   "outputs": [
    {
     "name": "stdout",
     "output_type": "stream",
     "text": [
      "['impressiveness', 'permissiveness']\n"
     ]
    }
   ],
   "source": [
    "longest = ['']\n",
    "for k,v in anagram_map.items():\n",
    "    if len(v[0]) > len(longest[0]):\n",
    "        longest = v\n",
    "print(longest)\n"
   ]
  },
  {
   "cell_type": "markdown",
   "metadata": {},
   "source": [
    "**Exercise 9:**\n",
    "Find the largest list of words that are anagrams of each other."
   ]
  },
  {
   "cell_type": "code",
   "execution_count": 109,
   "metadata": {},
   "outputs": [
    {
     "name": "stdout",
     "output_type": "stream",
     "text": [
      "['teals', 'stale', 'tales', 'slate', 'stael', 'tesla', 'steal', 'least']\n"
     ]
    }
   ],
   "source": [
    "longest = []\n",
    "for k,v in anagram_map.items():\n",
    "    if len(v) > len(longest):\n",
    "        longest = v\n",
    "print(longest)\n"
   ]
  },
  {
   "cell_type": "markdown",
   "metadata": {},
   "source": [
    "**Exercise 10:**\n",
    "Write a function that takes an integer `word_length` and finds the longest list of words with the given length that are anagrams of each other."
   ]
  },
  {
   "cell_type": "code",
   "execution_count": null,
   "metadata": {},
   "outputs": [],
   "source": [
    "def exercise10(word_length):\n",
    "    longest = []\n",
    "    for k,v in anagram_map.items():\n",
    "        if len(v) > len(longest) and len(v[0]) == word_length:\n",
    "            longest = v\n",
    "    print(longest)\n"
   ]
  },
  {
   "cell_type": "code",
   "execution_count": 110,
   "metadata": {},
   "outputs": [
    {
     "name": "stdout",
     "output_type": "stream",
     "text": [
      "['emigrants', 'streaming', 'mastering']\n"
     ]
    }
   ],
   "source": [
    "exercise10(9)"
   ]
  },
  {
   "cell_type": "markdown",
   "metadata": {},
   "source": [
    "**Exercise 11:**\n",
    "At this point we have a data structure that contains lists of words that are anagrams, but we have not actually enumerated all pairs.\n",
    "Write a function that takes `anagram_map` and returns a list of all anagram pairs.\n",
    "How many are there?"
   ]
  },
  {
   "cell_type": "code",
   "execution_count": 111,
   "metadata": {},
   "outputs": [],
   "source": [
    "import math\n",
    "def exercise11(anagram_map):\n",
    "    n = 0\n",
    "    for k,v in anagram_map.items():\n",
    "        n += math.factorial(len(v)) / 2\n",
    "        #n += len(v)\n",
    "    return int(n)"
   ]
  },
  {
   "cell_type": "code",
   "execution_count": 112,
   "metadata": {},
   "outputs": [
    {
     "name": "stdout",
     "output_type": "stream",
     "text": [
      "41026\n"
     ]
    }
   ],
   "source": [
    "print(exercise11(anagram_map))"
   ]
  },
  {
   "cell_type": "code",
   "execution_count": null,
   "metadata": {},
   "outputs": [],
   "source": []
  },
  {
   "cell_type": "code",
   "execution_count": null,
   "metadata": {},
   "outputs": [],
   "source": []
  },
  {
   "cell_type": "markdown",
   "metadata": {},
   "source": [
    "*Data Structures and Information Retrieval in Python*\n",
    "\n",
    "Copyright 2021 Allen Downey\n",
    "\n",
    "License: [Creative Commons Attribution-NonCommercial-ShareAlike 4.0 International](https://creativecommons.org/licenses/by-nc-sa/4.0/)"
   ]
  }
 ],
 "metadata": {
  "kernelspec": {
   "display_name": "Python 3.8.9 64-bit",
   "language": "python",
   "name": "python3"
  },
  "language_info": {
   "codemirror_mode": {
    "name": "ipython",
    "version": 3
   },
   "file_extension": ".py",
   "mimetype": "text/x-python",
   "name": "python",
   "nbconvert_exporter": "python",
   "pygments_lexer": "ipython3",
   "version": "3.9.6"
  },
  "vscode": {
   "interpreter": {
    "hash": "31f2aee4e71d21fbe5cf8b01ff0e069b9275f58929596ceb00d14d90e3e16cd6"
   }
  }
 },
 "nbformat": 4,
 "nbformat_minor": 4
}
